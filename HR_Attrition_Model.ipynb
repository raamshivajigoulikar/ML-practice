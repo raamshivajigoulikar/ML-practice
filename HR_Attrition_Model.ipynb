{
 "cells": [
  {
   "cell_type": "code",
   "execution_count": 2,
   "metadata": {},
   "outputs": [],
   "source": [
    "import os\n",
    "import pandas as pd\n",
    "import numpy as np\n",
    "import seaborn as sns\n",
    "from matplotlib import pyplot as plt\n",
    "%matplotlib inline\n",
    "sns.set()"
   ]
  },
  {
   "cell_type": "code",
   "execution_count": 3,
   "metadata": {},
   "outputs": [],
   "source": [
    "os.chdir(\"C:\\\\Users\\\\rgoulika\\\\Downloads\")\n",
    "emp=pd.read_csv(\"WA_Fn-UseC_-HR-Employee-Attrition.csv\")"
   ]
  },
  {
   "cell_type": "code",
   "execution_count": 4,
   "metadata": {},
   "outputs": [
    {
     "data": {
      "text/plain": [
       "(1470, 35)"
      ]
     },
     "execution_count": 4,
     "metadata": {},
     "output_type": "execute_result"
    }
   ],
   "source": [
    "emp.shape"
   ]
  },
  {
   "cell_type": "code",
   "execution_count": 4,
   "metadata": {},
   "outputs": [],
   "source": [
    "\n",
    "num_features = [\"Age\", \"DailyRate\", \"DistanceFromHome\", \"Education\", \"MonthlyIncome\" ,\"NumCompaniesWorked\",\n",
    "\"PercentSalaryHike\",\"RelationshipSatisfaction\",\n",
    "\"StockOptionLevel\",\"TotalWorkingYears\",\"TrainingTimesLastYear\",\"WorkLifeBalance\",\"YearsAtCompany\",\n",
    "\"YearsInCurrentRole\",\"YearsSinceLastPromotion\",\"YearsWithCurrManager\",\n",
    "\"EmployeeNumber\",\"EnvironmentSatisfaction\",\"JobInvolvement\",\"JobSatisfaction\"]"
   ]
  },
  {
   "cell_type": "code",
   "execution_count": 5,
   "metadata": {},
   "outputs": [],
   "source": [
    "char_features=[\"BusinessTravel\",\"Department\", \"EducationField\",\"OverTime\",\"Gender\",\"JobRole\",\"MaritalStatus\"]"
   ]
  },
  {
   "cell_type": "code",
   "execution_count": 7,
   "metadata": {},
   "outputs": [],
   "source": [
    "emp_mod=emp.copy()"
   ]
  },
  {
   "cell_type": "code",
   "execution_count": 8,
   "metadata": {},
   "outputs": [],
   "source": [
    "emp_mod=emp[num_features+char_features]"
   ]
  },
  {
   "cell_type": "code",
   "execution_count": 9,
   "metadata": {},
   "outputs": [
    {
     "data": {
      "text/plain": [
       "(1470, 27)"
      ]
     },
     "execution_count": 9,
     "metadata": {},
     "output_type": "execute_result"
    }
   ],
   "source": [
    "emp_mod.shape"
   ]
  },
  {
   "cell_type": "code",
   "execution_count": 10,
   "metadata": {},
   "outputs": [
    {
     "name": "stderr",
     "output_type": "stream",
     "text": [
      "C:\\Users\\rgoulika\\Documents\\Anaconda\\lib\\site-packages\\ipykernel_launcher.py:1: SettingWithCopyWarning: \n",
      "A value is trying to be set on a copy of a slice from a DataFrame.\n",
      "Try using .loc[row_indexer,col_indexer] = value instead\n",
      "\n",
      "See the caveats in the documentation: http://pandas.pydata.org/pandas-docs/stable/indexing.html#indexing-view-versus-copy\n",
      "  \"\"\"Entry point for launching an IPython kernel.\n"
     ]
    }
   ],
   "source": [
    "emp_mod[\"BusinessTravel\"] = emp_mod[\"BusinessTravel\"].replace([\"Travel_Rarely\",\"Travel_Frequently\",\"Non-Travel\"],[0,1,2]);"
   ]
  },
  {
   "cell_type": "code",
   "execution_count": 11,
   "metadata": {},
   "outputs": [
    {
     "data": {
      "text/plain": [
       "array([0, 1, 2], dtype=int64)"
      ]
     },
     "execution_count": 11,
     "metadata": {},
     "output_type": "execute_result"
    }
   ],
   "source": [
    "emp_mod['BusinessTravel'].unique()"
   ]
  },
  {
   "cell_type": "code",
   "execution_count": 12,
   "metadata": {},
   "outputs": [
    {
     "name": "stderr",
     "output_type": "stream",
     "text": [
      "C:\\Users\\rgoulika\\Documents\\Anaconda\\lib\\site-packages\\ipykernel_launcher.py:1: SettingWithCopyWarning: \n",
      "A value is trying to be set on a copy of a slice from a DataFrame.\n",
      "Try using .loc[row_indexer,col_indexer] = value instead\n",
      "\n",
      "See the caveats in the documentation: http://pandas.pydata.org/pandas-docs/stable/indexing.html#indexing-view-versus-copy\n",
      "  \"\"\"Entry point for launching an IPython kernel.\n",
      "C:\\Users\\rgoulika\\Documents\\Anaconda\\lib\\site-packages\\ipykernel_launcher.py:2: SettingWithCopyWarning: \n",
      "A value is trying to be set on a copy of a slice from a DataFrame.\n",
      "Try using .loc[row_indexer,col_indexer] = value instead\n",
      "\n",
      "See the caveats in the documentation: http://pandas.pydata.org/pandas-docs/stable/indexing.html#indexing-view-versus-copy\n",
      "  \n"
     ]
    }
   ],
   "source": [
    "emp_mod[\"MaritalStatus\"] = emp_mod[\"MaritalStatus\"].replace([\"Single\",\"Married\",\"Divorced\"],[0,1,2]);\n",
    "emp_mod[\"Gender\"] = emp_mod[\"Gender\"].replace([\"Female\",\"Male\"],[0,1]);"
   ]
  },
  {
   "cell_type": "code",
   "execution_count": 13,
   "metadata": {},
   "outputs": [
    {
     "name": "stderr",
     "output_type": "stream",
     "text": [
      "C:\\Users\\rgoulika\\Documents\\Anaconda\\lib\\site-packages\\ipykernel_launcher.py:1: SettingWithCopyWarning: \n",
      "A value is trying to be set on a copy of a slice from a DataFrame.\n",
      "Try using .loc[row_indexer,col_indexer] = value instead\n",
      "\n",
      "See the caveats in the documentation: http://pandas.pydata.org/pandas-docs/stable/indexing.html#indexing-view-versus-copy\n",
      "  \"\"\"Entry point for launching an IPython kernel.\n",
      "C:\\Users\\rgoulika\\Documents\\Anaconda\\lib\\site-packages\\ipykernel_launcher.py:3: SettingWithCopyWarning: \n",
      "A value is trying to be set on a copy of a slice from a DataFrame.\n",
      "Try using .loc[row_indexer,col_indexer] = value instead\n",
      "\n",
      "See the caveats in the documentation: http://pandas.pydata.org/pandas-docs/stable/indexing.html#indexing-view-versus-copy\n",
      "  This is separate from the ipykernel package so we can avoid doing imports until\n",
      "C:\\Users\\rgoulika\\Documents\\Anaconda\\lib\\site-packages\\ipykernel_launcher.py:5: SettingWithCopyWarning: \n",
      "A value is trying to be set on a copy of a slice from a DataFrame.\n",
      "Try using .loc[row_indexer,col_indexer] = value instead\n",
      "\n",
      "See the caveats in the documentation: http://pandas.pydata.org/pandas-docs/stable/indexing.html#indexing-view-versus-copy\n",
      "  \"\"\"\n",
      "C:\\Users\\rgoulika\\Documents\\Anaconda\\lib\\site-packages\\ipykernel_launcher.py:7: SettingWithCopyWarning: \n",
      "A value is trying to be set on a copy of a slice from a DataFrame.\n",
      "Try using .loc[row_indexer,col_indexer] = value instead\n",
      "\n",
      "See the caveats in the documentation: http://pandas.pydata.org/pandas-docs/stable/indexing.html#indexing-view-versus-copy\n",
      "  import sys\n"
     ]
    }
   ],
   "source": [
    "emp_mod[\"Department\"] = emp_mod[\"Department\"].replace([\"Sales\",\"Research & Development\",\"Human Resources\"],[0,1,2]);\n",
    "\n",
    "emp_mod[\"EducationField\"] = emp_mod[\"EducationField\"].replace([\"Life Sciences\",\"Other\",\"Medical\",\"Marketing\",\"Technical Degree\",\"Human Resources\"],[0,1,2,3,4,5]);\n",
    "\n",
    "emp_mod[\"OverTime\"] = emp_mod[\"OverTime\"].replace([\"Yes\",\"No\"],[0,1]);\n",
    "\n",
    "emp_mod[\"JobRole\"] = emp_mod[\"JobRole\"].replace([\"Sales Executive\",\"Sales Representative\",\"Research Scientist\",\"Laboratory Technician\",\"Manufacturing Director\",\"Healthcare Representative\",\"Manager\",\"Research Director\",\"Human Resources\"],[0,1,2,3,4,5,6,7,8]);"
   ]
  },
  {
   "cell_type": "code",
   "execution_count": 14,
   "metadata": {},
   "outputs": [],
   "source": [
    "y=emp['Attrition'].replace([\"Yes\",\"No\"],[0,1]);"
   ]
  },
  {
   "cell_type": "code",
   "execution_count": 15,
   "metadata": {},
   "outputs": [
    {
     "data": {
      "text/plain": [
       "(1470,)"
      ]
     },
     "execution_count": 15,
     "metadata": {},
     "output_type": "execute_result"
    }
   ],
   "source": [
    "y.shape"
   ]
  },
  {
   "cell_type": "code",
   "execution_count": 16,
   "metadata": {},
   "outputs": [
    {
     "data": {
      "text/plain": [
       "Age                         int64\n",
       "DailyRate                   int64\n",
       "DistanceFromHome            int64\n",
       "Education                   int64\n",
       "MonthlyIncome               int64\n",
       "NumCompaniesWorked          int64\n",
       "PercentSalaryHike           int64\n",
       "RelationshipSatisfaction    int64\n",
       "StockOptionLevel            int64\n",
       "TotalWorkingYears           int64\n",
       "TrainingTimesLastYear       int64\n",
       "WorkLifeBalance             int64\n",
       "YearsAtCompany              int64\n",
       "YearsInCurrentRole          int64\n",
       "YearsSinceLastPromotion     int64\n",
       "YearsWithCurrManager        int64\n",
       "EmployeeNumber              int64\n",
       "EnvironmentSatisfaction     int64\n",
       "JobInvolvement              int64\n",
       "JobSatisfaction             int64\n",
       "BusinessTravel              int64\n",
       "Department                  int64\n",
       "EducationField              int64\n",
       "OverTime                    int64\n",
       "Gender                      int64\n",
       "JobRole                     int64\n",
       "MaritalStatus               int64\n",
       "dtype: object"
      ]
     },
     "execution_count": 16,
     "metadata": {},
     "output_type": "execute_result"
    }
   ],
   "source": [
    "emp_mod.dtypes"
   ]
  },
  {
   "cell_type": "code",
   "execution_count": 17,
   "metadata": {},
   "outputs": [
    {
     "data": {
      "text/plain": [
       "dtype('int64')"
      ]
     },
     "execution_count": 17,
     "metadata": {},
     "output_type": "execute_result"
    }
   ],
   "source": [
    "y.dtypes"
   ]
  },
  {
   "cell_type": "code",
   "execution_count": 13,
   "metadata": {},
   "outputs": [],
   "source": [
    "from sklearn.model_selection import train_test_split"
   ]
  },
  {
   "cell_type": "code",
   "execution_count": 14,
   "metadata": {},
   "outputs": [],
   "source": [
    "X_train, X_test, y_train, y_test = train_test_split(emp_mod, y, test_size=.2,\n",
    "                                                    random_state=0)"
   ]
  },
  {
   "cell_type": "code",
   "execution_count": 15,
   "metadata": {},
   "outputs": [
    {
     "data": {
      "text/plain": [
       "(1176, 27)"
      ]
     },
     "execution_count": 15,
     "metadata": {},
     "output_type": "execute_result"
    }
   ],
   "source": [
    "X_train.shape"
   ]
  },
  {
   "cell_type": "code",
   "execution_count": 16,
   "metadata": {},
   "outputs": [
    {
     "data": {
      "text/plain": [
       "(294, 27)"
      ]
     },
     "execution_count": 16,
     "metadata": {},
     "output_type": "execute_result"
    }
   ],
   "source": [
    "X_test.shape"
   ]
  },
  {
   "cell_type": "code",
   "execution_count": 18,
   "metadata": {},
   "outputs": [
    {
     "ename": "ModuleNotFoundError",
     "evalue": "No module named 'imblearn'",
     "output_type": "error",
     "traceback": [
      "\u001b[1;31m---------------------------------------------------------------------------\u001b[0m",
      "\u001b[1;31mModuleNotFoundError\u001b[0m                       Traceback (most recent call last)",
      "\u001b[1;32m<ipython-input-18-def60ef32dc0>\u001b[0m in \u001b[0;36m<module>\u001b[1;34m()\u001b[0m\n\u001b[0;32m      7\u001b[0m \u001b[1;32mfrom\u001b[0m \u001b[0msklearn\u001b[0m\u001b[1;33m.\u001b[0m\u001b[0mmetrics\u001b[0m \u001b[1;32mimport\u001b[0m \u001b[0mconfusion_matrix\u001b[0m\u001b[1;33m,\u001b[0m\u001b[0mclassification_report\u001b[0m\u001b[1;33m,\u001b[0m \u001b[0mmean_squared_error\u001b[0m\u001b[1;33m\u001b[0m\u001b[0m\n\u001b[0;32m      8\u001b[0m \u001b[1;32mimport\u001b[0m \u001b[0mstatsmodels\u001b[0m\u001b[1;33m.\u001b[0m\u001b[0mformula\u001b[0m\u001b[1;33m.\u001b[0m\u001b[0mapi\u001b[0m \u001b[1;32mas\u001b[0m \u001b[0msm\u001b[0m\u001b[1;33m\u001b[0m\u001b[0m\n\u001b[1;32m----> 9\u001b[1;33m \u001b[1;32mfrom\u001b[0m \u001b[0mimblearn\u001b[0m\u001b[1;33m.\u001b[0m\u001b[0mover_sampling\u001b[0m \u001b[1;32mimport\u001b[0m \u001b[0mSMOTE\u001b[0m\u001b[1;33m\u001b[0m\u001b[0m\n\u001b[0m",
      "\u001b[1;31mModuleNotFoundError\u001b[0m: No module named 'imblearn'"
     ]
    }
   ],
   "source": [
    "from sklearn.cross_validation import train_test_split,cross_val_score\n",
    "from sklearn.externals.six import StringIO\n",
    "\n",
    "from sklearn.tree import DecisionTreeRegressor,DecisionTreeClassifier,export_graphviz\n",
    "from sklearn.ensemble import RandomForestRegressor,RandomForestClassifier,BaggingRegressor,GradientBoostingClassifier,GradientBoostingRegressor\n",
    "\n",
    "from sklearn.metrics import confusion_matrix,classification_report, mean_squared_error\n",
    "import statsmodels.formula.api as sm\n",
    "from imblearn.over_sampling import SMOTE"
   ]
  },
  {
   "cell_type": "code",
   "execution_count": 1,
   "metadata": {},
   "outputs": [
    {
     "ename": "NameError",
     "evalue": "name 'SMOTE' is not defined",
     "output_type": "error",
     "traceback": [
      "\u001b[1;31m---------------------------------------------------------------------------\u001b[0m",
      "\u001b[1;31mNameError\u001b[0m                                 Traceback (most recent call last)",
      "\u001b[1;32m<ipython-input-1-1b3f490f8bf5>\u001b[0m in \u001b[0;36m<module>\u001b[1;34m()\u001b[0m\n\u001b[0;32m      2\u001b[0m \u001b[1;31m#sm = [SMOTE(kind=k) for k in kind]\u001b[0m\u001b[1;33m\u001b[0m\u001b[1;33m\u001b[0m\u001b[0m\n\u001b[0;32m      3\u001b[0m \u001b[1;32mfor\u001b[0m \u001b[0mt\u001b[0m \u001b[1;32min\u001b[0m \u001b[0mtype\u001b[0m\u001b[1;33m:\u001b[0m\u001b[1;33m\u001b[0m\u001b[0m\n\u001b[1;32m----> 4\u001b[1;33m     \u001b[0msampt\u001b[0m\u001b[1;33m=\u001b[0m\u001b[0mSMOTE\u001b[0m\u001b[1;33m(\u001b[0m\u001b[0mkind\u001b[0m\u001b[1;33m=\u001b[0m\u001b[0mt\u001b[0m\u001b[1;33m)\u001b[0m\u001b[1;33m\u001b[0m\u001b[0m\n\u001b[0m\u001b[0;32m      5\u001b[0m \u001b[0mX_resampled\u001b[0m \u001b[1;33m=\u001b[0m \u001b[1;33m[\u001b[0m\u001b[1;33m]\u001b[0m\u001b[1;33m\u001b[0m\u001b[0m\n\u001b[0;32m      6\u001b[0m \u001b[0my_resampled\u001b[0m \u001b[1;33m=\u001b[0m \u001b[1;33m[\u001b[0m\u001b[1;33m]\u001b[0m\u001b[1;33m\u001b[0m\u001b[0m\n",
      "\u001b[1;31mNameError\u001b[0m: name 'SMOTE' is not defined"
     ]
    }
   ],
   "source": [
    "type = ['svm']\n",
    "#sm = [SMOTE(kind=k) for k in kind]\n",
    "for t in type:\n",
    "    sampt=SMOTE(kind=t)\n",
    "X_resampled = []\n",
    "y_resampled = []\n",
    "#X_res_vis = []\n",
    "for method in sm:\n",
    "    X_res, y_res = method.fit_sample(emp_mod, y)"
   ]
  },
  {
   "cell_type": "code",
   "execution_count": 18,
   "metadata": {},
   "outputs": [],
   "source": [
    "model=RandomForestRegressor(max_depth=5,n_estimators=500,oob_score=True)\n",
    "model.fit(X_train,y_train)\n",
    "model.score(X_test,y_test)\n",
    "pred=model.predict(X_test)"
   ]
  },
  {
   "cell_type": "code",
   "execution_count": 24,
   "metadata": {},
   "outputs": [
    {
     "data": {
      "text/plain": [
       "Text(0,0.5,'Frequency')"
      ]
     },
     "execution_count": 24,
     "metadata": {},
     "output_type": "execute_result"
    },
    {
     "data": {
      "image/png": "[encoded data removed]",
      "text/plain": [
       "<matplotlib.figure.Figure at 0x1b1a493eef0>"
      ]
     },
     "metadata": {},
     "output_type": "display_data"
    }
   ],
   "source": [
    "plt.hist(pred, bins=8)\n",
    "\n",
    "# x-axis limit from 0 to 1\n",
    "plt.xlim(0,1)\n",
    "plt.title('Histogram of predicted probabilities')\n",
    "plt.xlabel('Predicted probability of diabetes')\n",
    "plt.ylabel('Frequency')"
   ]
  },
  {
   "cell_type": "code",
   "execution_count": 25,
   "metadata": {},
   "outputs": [
    {
     "data": {
      "text/plain": [
       "array([0.94075553, 0.93765817, 0.86603884, 0.9070814 , 0.22125999,\n",
       "       0.64609049, 0.56245554, 0.91478655, 0.95089989, 0.84508396,\n",
       "       0.92796268, 0.92575273, 0.94452812, 0.34400876, 0.92289333,\n",
       "       0.95607815, 0.93373825, 0.84529036, 0.93906342, 0.89064466,\n",
       "       0.532307  , 0.90719084, 0.93577366, 0.94449296, 0.70233118,\n",
       "       0.781916  , 0.93822191, 0.9325769 , 0.37609438, 0.94048428,\n",
       "       0.93184761, 0.94354313, 0.8729924 , 0.916536  , 0.90880768,\n",
       "       0.94422604, 0.90862249, 0.92115943, 0.94907811, 0.92821773,\n",
       "       0.93015443, 0.94910897, 0.93078875, 0.90883931, 0.93633064,\n",
       "       0.4618031 , 0.76104543, 0.95273502, 0.29419193, 0.38968316,\n",
       "       0.84982022, 0.57262998, 0.90614977, 0.88472829, 0.59855126,\n",
       "       0.78010681, 0.94415594, 0.92157807, 0.94629293, 0.74770846,\n",
       "       0.95121479, 0.89398277, 0.92458112, 0.90163938, 0.7621772 ,\n",
       "       0.89866317, 0.77789862, 0.91576372, 0.92686213, 0.82288036,\n",
       "       0.92277037, 0.58876711, 0.92165593, 0.95087215, 0.91569065,\n",
       "       0.92744182, 0.89699541, 0.85907878, 0.80843664, 0.94688956,\n",
       "       0.95033877, 0.94036896, 0.90896978, 0.9180606 , 0.9317633 ,\n",
       "       0.91184956, 0.93236368, 0.808136  , 0.93274474, 0.93270088,\n",
       "       0.5240178 , 0.88424794, 0.9200742 , 0.87440621, 0.94421403,\n",
       "       0.94298225, 0.90394839, 0.68448583, 0.92628935, 0.86814413,\n",
       "       0.86863583, 0.78130021, 0.70895018, 0.94333756, 0.9454248 ,\n",
       "       0.91108376, 0.93643676, 0.6114827 , 0.8492328 , 0.83374387,\n",
       "       0.8762177 , 0.75883588, 0.9421835 , 0.94253075, 0.93013054,\n",
       "       0.93601381, 0.94046971, 0.87284869, 0.93961116, 0.95699574,\n",
       "       0.92860641, 0.93906155, 0.94633292, 0.27542017, 0.80232033,\n",
       "       0.93634059, 0.95847315, 0.91456257, 0.91884371, 0.91779269,\n",
       "       0.9295781 , 0.78468134, 0.57144895, 0.83892819, 0.85720589,\n",
       "       0.74650247, 0.68674101, 0.94113501, 0.89378043, 0.91295411,\n",
       "       0.92005432, 0.77445532, 0.92683049, 0.90196105, 0.69284391,\n",
       "       0.93733065, 0.94104653, 0.93153602, 0.9080886 , 0.93344578,\n",
       "       0.92514387, 0.89416651, 0.9180796 , 0.76759276, 0.91864638,\n",
       "       0.85929213, 0.87937095, 0.87790847, 0.91051239, 0.93313917,\n",
       "       0.61811819, 0.95243937, 0.82419345, 0.39669594, 0.93346534,\n",
       "       0.73600807, 0.80906019, 0.94102705, 0.93843972, 0.93527037,\n",
       "       0.92822469, 0.94144991, 0.92138364, 0.8192041 , 0.89503482,\n",
       "       0.5695047 , 0.90590549, 0.71301062, 0.85292177, 0.89666334,\n",
       "       0.91800197, 0.94341525, 0.94153365, 0.56452813, 0.94809445,\n",
       "       0.92561169, 0.83012918, 0.91868409, 0.82903179, 0.77506897,\n",
       "       0.83256213, 0.36245169, 0.87896022, 0.94651658, 0.86090971,\n",
       "       0.9216204 , 0.9470184 , 0.93129207, 0.53026606, 0.93194089,\n",
       "       0.90136532, 0.91944653, 0.88200391, 0.94157285, 0.93076296,\n",
       "       0.89383222, 0.43874172, 0.95325305, 0.90228633, 0.95820963,\n",
       "       0.92068065, 0.94625859, 0.88215302, 0.85456036, 0.94659317,\n",
       "       0.92793439, 0.9350625 , 0.80871574, 0.94284943, 0.56617914,\n",
       "       0.93130928, 0.53301661, 0.4994232 , 0.88806996, 0.82337764,\n",
       "       0.93764285, 0.92910151, 0.7552542 , 0.51268937, 0.93372105,\n",
       "       0.95781845, 0.64047681, 0.92928303, 0.94652723, 0.94057146,\n",
       "       0.77914286, 0.7913117 , 0.94720151, 0.91281849, 0.86628304,\n",
       "       0.57756191, 0.87968551, 0.87761019, 0.8944869 , 0.90590702,\n",
       "       0.92898505, 0.92392968, 0.64129802, 0.9334934 , 0.81322054,\n",
       "       0.89253016, 0.85902276, 0.82099882, 0.92439928, 0.73642186,\n",
       "       0.92185039, 0.93959715, 0.28712654, 0.84224053, 0.82291071,\n",
       "       0.84648517, 0.92716645, 0.80586394, 0.92638002, 0.8615539 ,\n",
       "       0.82486079, 0.94915206, 0.61436292, 0.85630191, 0.9500482 ,\n",
       "       0.92222024, 0.94817531, 0.91234351, 0.93951129, 0.93217515,\n",
       "       0.94006155, 0.93172802, 0.65313953, 0.89299965, 0.55485505,\n",
       "       0.82660406, 0.89681801, 0.89660796, 0.88370511, 0.81528337,\n",
       "       0.68305838, 0.96168282, 0.89838558, 0.90974887, 0.93837896,\n",
       "       0.77929215, 0.74637815, 0.91779983, 0.90742414])"
      ]
     },
     "execution_count": 25,
     "metadata": {},
     "output_type": "execute_result"
    }
   ],
   "source": [
    "pred"
   ]
  },
  {
   "cell_type": "code",
   "execution_count": 25,
   "metadata": {},
   "outputs": [
    {
     "name": "stdout",
     "output_type": "stream",
     "text": [
      "True        0    1\n",
      "Predicted         \n",
      "0          31   55\n",
      "1          18  190\n"
     ]
    }
   ],
   "source": [
    "pred=(pred>0.85)\n",
    "#Creating a confusion Matrix\n",
    "cm_df=pd.DataFrame(confusion_matrix(y_test,pred).T)\n",
    "\n",
    "cm_df.index.name='Predicted'\n",
    "cm_df.columns.name='True'\n",
    "print(cm_df)"
   ]
  },
  {
   "cell_type": "code",
   "execution_count": 27,
   "metadata": {},
   "outputs": [
    {
     "name": "stdout",
     "output_type": "stream",
     "text": [
      "             precision    recall  f1-score   support\n",
      "\n",
      "          0       0.36      0.63      0.46        49\n",
      "          1       0.91      0.78      0.84       245\n",
      "\n",
      "avg / total       0.82      0.75      0.78       294\n",
      "\n"
     ]
    }
   ],
   "source": [
    "print(classification_report(y_test,pred))"
   ]
  },
  {
   "cell_type": "code",
   "execution_count": 19,
   "metadata": {},
   "outputs": [
    {
     "name": "stdout",
     "output_type": "stream",
     "text": [
      "Roc Auc: 0.79\n"
     ]
    },
    {
     "data": {
      "image/png": "[encoded data removed]",
      "text/plain": [
       "<matplotlib.figure.Figure at 0x21068c245f8>"
      ]
     },
     "metadata": {},
     "output_type": "display_data"
    }
   ],
   "source": [
    "#Validation methods roc_curve\n",
    "from sklearn.metrics import roc_curve\n",
    "fpr,tpr,_=roc_curve(y_test,pred)\n",
    "\n",
    "from sklearn.metrics import auc\n",
    "\n",
    "roc_auc=auc(fpr,tpr)\n",
    "print('Roc Auc: %0.2f'%roc_auc)\n",
    "\n",
    "plt.figure()\n",
    "\n",
    "plt.plot(fpr,tpr,label='ROC Curve(Area=%0.2f)'%roc_auc)\n",
    "\n",
    "plt.plot([0,1],[0,1],'k--')\n",
    "plt.xlim([0.0,1.0])\n",
    "plt.ylim([0.0,1.05])\n",
    "\n",
    "plt.xlabel('False Positive Rate')\n",
    "plt.ylabel('True Positive rate')\n",
    "\n",
    "plt.title('ROC Curve')\n",
    "plt.legend(loc=\"lower right\")\n",
    "\n",
    "plt.show()\n"
   ]
  },
  {
   "cell_type": "code",
   "execution_count": null,
   "metadata": {},
   "outputs": [],
   "source": [
    "\n",
    "#SVM \n",
    "from sklearn import svm\n",
    "model_svm=svm.SVC(kernel='linear')\n",
    "model_svm.fit(X_train,y_train)\n",
    "pred_svm=model_svm.predict(X_test)\n",
    "cm_df_svm=pd.DataFrame(confusion_matrix(y_test,pred).T)\n",
    "cm_df_svm.index.name='Predicted'\n",
    "cm_df_svm.columns.name='True'\n",
    "print(cm_df_svm)\n",
    "print(classification_report(y_test,pred_svm))\n",
    "model_svm.score(X_test,y_test)\n",
    "fpr,tpr,__=roc_curve(y_test,pred_svm)\n",
    "\n",
    "#Calculate the AUC\n",
    "roc_auc=auc(fpr,tpr)\n",
    "print('ROC AUC:%0.2f'%roc_auc)\n",
    "\n",
    "\n",
    "#plot of a ROC Curve for a specific loss\n",
    "plt.figure()\n",
    "plt.plot(fpr,tpr,label='ROC Curve(area=%0.2f)'%roc_auc)\n",
    "\n",
    "plt.plot([0,1],[0,1],'k--')\n",
    "plt.xlim([0.0,1.0])\n",
    "plt.ylim([0.0,1.05])\n",
    "plt.xlabel('False Postive Rate')\n",
    "plt.ylabel('True Positive Rate')\n",
    "plt.title('ROC Curve with SVM')\n",
    "plt.legend(loc=\"lower right\")\n",
    "plt.show()\n"
   ]
  },
  {
   "cell_type": "code",
   "execution_count": 20,
   "metadata": {},
   "outputs": [],
   "source": [
    "#SVM \n",
    "from sklearn import svm\n",
    "model_svm=svm.SVC(kernel='linear')\n"
   ]
  },
  {
   "cell_type": "code",
   "execution_count": null,
   "metadata": {},
   "outputs": [],
   "source": [
    "pred_svm=model_svm.predict(X_test)\n",
    "cm_df_svm=pd.DataFrame(confusion_matrix(y_test,pred_svm).T)"
   ]
  }
 ],
 "metadata": {
  "kernelspec": {
   "display_name": "Python 3",
   "language": "python",
   "name": "python3"
  },
  "language_info": {
   "codemirror_mode": {
    "name": "ipython",
    "version": 3
   },
   "file_extension": ".py",
   "mimetype": "text/x-python",
   "name": "python",
   "nbconvert_exporter": "python",
   "pygments_lexer": "ipython3",
   "version": "3.6.4"
  }
 },
 "nbformat": 4,
 "nbformat_minor": 2
}
